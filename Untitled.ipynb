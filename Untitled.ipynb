{
 "cells": [
  {
   "cell_type": "code",
   "execution_count": 1,
   "id": "2d04fd5d-3ed7-4e7c-a6c5-331ac3f6d42f",
   "metadata": {},
   "outputs": [],
   "source": [
    "# Exercise: Shouter\n",
    "\n",
    "# Write a decorator, shouter, that decorates functions that return strings.\n",
    "# Any such function's output will return in ALL CAPS and with an explanation point at the end. Example:\n",
    "# @shouter\n",
    "# def hello(name):\n",
    "#     return f'Hello, {name}'\n",
    "\n",
    "# print(hello('Reuven'))   # output HELLO, REUVEN!"
   ]
  },
  {
   "cell_type": "code",
   "execution_count": 29,
   "id": "01ba7d3f-a1c8-4e6a-b8b7-e3c136e4b2e7",
   "metadata": {},
   "outputs": [],
   "source": [
    "def shouter(func):\n",
    "    def wrapper(*args):\n",
    "        return f'{func(*args)}!'.upper()\n",
    "    return wrapper"
   ]
  },
  {
   "cell_type": "code",
   "execution_count": 30,
   "id": "56de9d53-621f-4865-99f4-ae38196e0e05",
   "metadata": {},
   "outputs": [],
   "source": [
    "@shouter\n",
    "def hello(name):\n",
    "    return f'Hello, {name}'"
   ]
  },
  {
   "cell_type": "code",
   "execution_count": 31,
   "id": "8ba94209-c1ff-40f1-8ed5-b7fef9d08e0d",
   "metadata": {},
   "outputs": [
    {
     "name": "stdout",
     "output_type": "stream",
     "text": [
      "HELLO, REUVEN!\n"
     ]
    }
   ],
   "source": [
    "print(hello('Reuven')) "
   ]
  },
  {
   "cell_type": "code",
   "execution_count": 32,
   "id": "63b2b0f2-cbac-4c30-8b2d-993eda24fd4c",
   "metadata": {},
   "outputs": [
    {
     "name": "stdout",
     "output_type": "stream",
     "text": [
      "Help on function wrapper in module __main__:\n",
      "\n",
      "wrapper(*args)\n",
      "\n"
     ]
    }
   ],
   "source": [
    "help(hello)"
   ]
  },
  {
   "cell_type": "code",
   "execution_count": 33,
   "id": "0c3a675b-5991-475e-940e-6f1c9bf61b96",
   "metadata": {},
   "outputs": [],
   "source": [
    "# Exercise: Timing of functions\n",
    "\n",
    "# Write a decorator, timefunc, that will not change the inputs or outputs of the decorated function but we will time how long \n",
    "# it takes to run the function, and will record that to a file called timing.txt.\n",
    "\n",
    "# Every time I run the decorated function, I'll get one more line in timing.txt with the function name, when it started running, \n",
    "# and how long it took to run.\n",
    "\n",
    "# Hints:\n",
    "\n",
    "# Normally, writing to a file with w will erase any previous contents. Instead, open the file with a (\"append\"), and then \n",
    "# you'll write to the end.\n",
    "# You can get a function's name from its __name__ attribute.\n",
    "# You can get the current Unix time (seconds since January 1st, 1970 at midnight) with time.time().\n",
    "# I should be able to say the following:\n",
    "\n",
    "# import random\n",
    "# import time\n",
    "\n",
    "# @timefunc\n",
    "# def slow_add(a, b):\n",
    "#     time.sleep(random.randint(0, 3))\n",
    "#     return a + b\n",
    "\n",
    "# @timefunc\n",
    "# def slow_mul(a, b):\n",
    "#     time.sleep(random.randint(0, 3))\n",
    "#     return a * b\n",
    "\n",
    "# print(slow_add(2, 3))\n",
    "# print(slow_mul(4, 5))"
   ]
  },
  {
   "cell_type": "code",
   "execution_count": 52,
   "id": "e9aeba5b-fb26-4507-92c6-727c5cd74ea9",
   "metadata": {},
   "outputs": [
    {
     "name": "stdout",
     "output_type": "stream",
     "text": [
      "5\n",
      "20\n"
     ]
    }
   ],
   "source": [
    "import random\n",
    "import time\n",
    "\n",
    "def timefunc(func):\n",
    "    def wrapper(*args):\n",
    "        start_time = time.time()\n",
    "        value = func(*args)\n",
    "        total_time = time.time() - start_time\n",
    "        # print(locals())\n",
    "        \n",
    "        with open('timing.txt', 'a') as f:\n",
    "            f.write(f'{func.__name__}\\t{start_time:.03f}\\t{total_time:.03f}\\n')\n",
    "            \n",
    "        return value\n",
    "    return wrapper\n",
    "\n",
    "@timefunc\n",
    "def slow_add(a, b):\n",
    "    time.sleep(random.randint(0, 3))\n",
    "    return a + b\n",
    "\n",
    "@timefunc\n",
    "def slow_mul(a, b):\n",
    "    time.sleep(random.randint(0, 3))\n",
    "    return a * b\n",
    "\n",
    "print(slow_add(2, 3))\n",
    "print(slow_mul(4, 5))"
   ]
  },
  {
   "cell_type": "code",
   "execution_count": 51,
   "id": "477caff2-3ae9-45dd-835c-a9940fddb087",
   "metadata": {},
   "outputs": [
    {
     "name": "stdout",
     "output_type": "stream",
     "text": [
      "0.00146412849426269530.0043361186981201170.00077509880065917971.00567913055419920.0008959770202636719\n",
      "2.0075080394744873\n",
      "0.0006711483001708984\n",
      "0.0038700103759765625\n",
      "0.0008399486541748047\n",
      "0.0016198158264160156\n",
      "0.002218961715698242\n",
      "3.006869077682495\n",
      "0.0013649463653564453\n",
      "0.002977132797241211\n",
      "0.001276254653930664\n",
      "3.0063631534576416\n",
      "0.0009860992431640625\n",
      "3.0072338581085205\n",
      "0.001583099365234375\n",
      "0.0024917125701904297\n",
      "3.004965305328369\n",
      "4.010913133621216\n",
      "3.0039010047912598\n",
      "3.0015878677368164\n",
      "slow_add\t1725816976.234\t0.000\n",
      "slow_mul\t1725816976.237\t2.005\n"
     ]
    }
   ],
   "source": [
    "!cat timing.txt\n"
   ]
  },
  {
   "cell_type": "code",
   "execution_count": 53,
   "id": "b7b14be6-d03d-41c3-88ab-ff65999a398a",
   "metadata": {},
   "outputs": [],
   "source": [
    "# Memoization\n",
    "# Memoization is a caching technique that looks at the arguments to a function. \n",
    "# If the arguments have been seen before, then we return the value from the previous call with those arguments. \n",
    "# If the arguments are new, then we call the function for real, and then cache/store the return value for the next call.\n",
    "\n",
    "# This is for deterministic, simple functions that don't affect the system's state.\n",
    "\n",
    "# @memoize\n",
    "# def slow_add(a, b):\n",
    "#     time.sleep(random.randint(0, 3))\n",
    "#     return a + b\n",
    "\n",
    "# @memoize\n",
    "# def slow_mul(a, b):\n",
    "#     time.sleep(random.randint(0, 3))\n",
    "#     return a * b\n",
    "\n",
    "# print(slow_add(2, 3))  # really invoke slow_add here\n",
    "# print(slow_mul(4, 5))  # really invoke slow_mul here\n",
    "# print(slow_add(2, 3))  # return cached value for slow_add\n",
    "# print(slow_mul(2, 3))  # really invoke slow_mus\n",
    "# print(slow_add(2, 3))  # return cached value for slow_add\n",
    "# print(slow_mul(2, 3))  # return cached value for slow_mul\n",
    "# Write a decorator, memoize, that not only works, but prints whether it's really running the function or using the cache. (Hint: You can use a dict for the cache.)"
   ]
  },
  {
   "cell_type": "code",
   "execution_count": 73,
   "id": "00ae7c27-cf37-4070-b706-6d462c6a86d8",
   "metadata": {},
   "outputs": [
    {
     "name": "stdout",
     "output_type": "stream",
     "text": [
      "5\n",
      "20\n",
      "5\n",
      "6\n",
      "5\n",
      "6\n"
     ]
    }
   ],
   "source": [
    "def memoize(func):\n",
    "    cache = {}\n",
    "    def wrapper(*args):\n",
    "        if args not in cache:\n",
    "            cache[args] = func(*args)\n",
    "        \n",
    "        return cache[args]\n",
    "\n",
    "    return wrapper\n",
    "\n",
    "@memoize\n",
    "def slow_add(a, b):\n",
    "    time.sleep(random.randint(0, 3))\n",
    "    return a + b\n",
    "\n",
    "@memoize\n",
    "def slow_mul(a, b):\n",
    "    time.sleep(random.randint(0, 3))\n",
    "    return a * b\n",
    "\n",
    "print(slow_add(2, 3))  # really invoke slow_add here\n",
    "print(slow_mul(4, 5))  # really invoke slow_mul here\n",
    "print(slow_add(2, 3))  # return cached value for slow_add\n",
    "print(slow_mul(2, 3))  # really invoke slow_mus\n",
    "print(slow_add(2, 3))  # return cached value for slow_add\n",
    "print(slow_mul(2, 3))  # return cached value for slow_mul"
   ]
  },
  {
   "cell_type": "code",
   "execution_count": 74,
   "id": "722e9417-2a0a-4067-93c6-a04c2174a77e",
   "metadata": {},
   "outputs": [],
   "source": [
    "# Exercise: once_per_minute\n",
    "\n",
    "# Write a decorator, once_per_minute, that only allows a decorated function to be run once per minute. \n",
    "# Any more frequently than that, and it'll raise an exception. (CalledTooSoonError?)\n",
    "\n",
    "# @once_per_minute\n",
    "# def slow_add(a, b):\n",
    "#     time.sleep(random.randint(0, 3))\n",
    "#     return a + b\n",
    "\n",
    "# @once_per_minute\n",
    "# def slow_mul(a, b):\n",
    "#     time.sleep(random.randint(0, 3))\n",
    "#     return a * b\n",
    "\n",
    "# print(slow_add(2, 3))  # works fine\n",
    "# print(slow_mul(4, 5))  # works fine\n",
    "# print(slow_add(2, 3))  # raises the exception here\n",
    "# print(slow_mul(2, 3))  # \n",
    "# print(slow_add(2, 3))  # \n",
    "# print(slow_mul(2, 3))  #"
   ]
  },
  {
   "cell_type": "code",
   "execution_count": 80,
   "id": "739f28de-3619-4546-b1f9-fb3927389cf6",
   "metadata": {},
   "outputs": [
    {
     "name": "stdout",
     "output_type": "stream",
     "text": [
      "0.0007379055023193359\n",
      "5\n",
      "2.0028748512268066\n",
      "20\n",
      "3.0066428184509277\n"
     ]
    },
    {
     "ename": "CalledTooSoonError",
     "evalue": "Sorry, you call your function too soon",
     "output_type": "error",
     "traceback": [
      "\u001b[0;31m---------------------------------------------------------------------------\u001b[0m",
      "\u001b[0;31mCalledTooSoonError\u001b[0m                        Traceback (most recent call last)",
      "Cell \u001b[0;32mIn[80], line 35\u001b[0m\n\u001b[1;32m     33\u001b[0m \u001b[38;5;28mprint\u001b[39m(slow_add(\u001b[38;5;241m2\u001b[39m, \u001b[38;5;241m3\u001b[39m))  \u001b[38;5;66;03m# works fine\u001b[39;00m\n\u001b[1;32m     34\u001b[0m \u001b[38;5;28mprint\u001b[39m(slow_mul(\u001b[38;5;241m4\u001b[39m, \u001b[38;5;241m5\u001b[39m))  \u001b[38;5;66;03m# works fine\u001b[39;00m\n\u001b[0;32m---> 35\u001b[0m \u001b[38;5;28mprint\u001b[39m(\u001b[43mslow_add\u001b[49m\u001b[43m(\u001b[49m\u001b[38;5;241;43m2\u001b[39;49m\u001b[43m,\u001b[49m\u001b[43m \u001b[49m\u001b[38;5;241;43m3\u001b[39;49m\u001b[43m)\u001b[49m)  \u001b[38;5;66;03m# raises the exception here\u001b[39;00m\n\u001b[1;32m     36\u001b[0m \u001b[38;5;28mprint\u001b[39m(slow_mul(\u001b[38;5;241m2\u001b[39m, \u001b[38;5;241m3\u001b[39m))  \u001b[38;5;66;03m# \u001b[39;00m\n\u001b[1;32m     37\u001b[0m \u001b[38;5;28mprint\u001b[39m(slow_add(\u001b[38;5;241m2\u001b[39m, \u001b[38;5;241m3\u001b[39m))  \u001b[38;5;66;03m# \u001b[39;00m\n",
      "Cell \u001b[0;32mIn[80], line 19\u001b[0m, in \u001b[0;36monce_per_minute.<locals>.wrapper\u001b[0;34m(*args)\u001b[0m\n\u001b[1;32m     16\u001b[0m     start_time \u001b[38;5;241m=\u001b[39m time\u001b[38;5;241m.\u001b[39mtime()\n\u001b[1;32m     17\u001b[0m     \u001b[38;5;28;01mreturn\u001b[39;00m func(\u001b[38;5;241m*\u001b[39margs)\n\u001b[0;32m---> 19\u001b[0m \u001b[38;5;28;01mraise\u001b[39;00m CalledTooSoonError(\u001b[38;5;124m\"\u001b[39m\u001b[38;5;124mSorry, you call your function too soon\u001b[39m\u001b[38;5;124m\"\u001b[39m)\n",
      "\u001b[0;31mCalledTooSoonError\u001b[0m: Sorry, you call your function too soon"
     ]
    }
   ],
   "source": [
    "class CalledTooSoonError(Exception):\n",
    "    pass\n",
    "\n",
    "def once_per_minute(func):\n",
    "    start_time = time.time()\n",
    "    first_call = True\n",
    "    \n",
    "    def wrapper(*args):\n",
    "        nonlocal start_time, first_call\n",
    "        now = time.time()\n",
    "\n",
    "        print(now - start_time)\n",
    "        \n",
    "        if now - start_time > 60 or first_call:\n",
    "            first_call = False\n",
    "            start_time = time.time()\n",
    "            return func(*args)\n",
    "\n",
    "        raise CalledTooSoonError(\"Sorry, you call your function too soon\") \n",
    "\n",
    "    return wrapper\n",
    "\n",
    "@once_per_minute\n",
    "def slow_add(a, b):\n",
    "    time.sleep(random.randint(0, 3))\n",
    "    return a + b\n",
    "\n",
    "@once_per_minute\n",
    "def slow_mul(a, b):\n",
    "    time.sleep(random.randint(0, 3))\n",
    "    return a * b\n",
    "\n",
    "print(slow_add(2, 3))  # works fine\n",
    "print(slow_mul(4, 5))  # works fine\n",
    "print(slow_add(2, 3))  # raises the exception here\n",
    "print(slow_mul(2, 3))  # \n",
    "print(slow_add(2, 3))  # \n",
    "print(slow_mul(2, 3))  #"
   ]
  },
  {
   "cell_type": "code",
   "execution_count": 81,
   "id": "b24bcd64-e05a-4eff-928a-06a793e838e4",
   "metadata": {},
   "outputs": [],
   "source": [
    "# Exercise: only_ints\n",
    "\n",
    "# Write a decorator that ignores the non-int arguments to a function. If we call mysum (the original) with some non-int arguments, \n",
    "# the function will still work fine. You probably want to use isinstance(OBJECT, int) to check if something is an int."
   ]
  },
  {
   "cell_type": "code",
   "execution_count": 88,
   "id": "0f88e274-fbb2-4fb1-ace4-7f26a2a966f5",
   "metadata": {},
   "outputs": [
    {
     "data": {
      "text/plain": [
       "100"
      ]
     },
     "execution_count": 88,
     "metadata": {},
     "output_type": "execute_result"
    }
   ],
   "source": [
    "# let's use a list comprehension!\n",
    "\n",
    "# I can define an only_odds decorator \n",
    "\n",
    "def only_ints(func):\n",
    "    def wrapper(*args):\n",
    "        # sum_args = []\n",
    "\n",
    "        # for one_arg in args:\n",
    "        #     if isinstance(one_arg, int):\n",
    "        #         sum_args.append(one_arg)\n",
    "\n",
    "        # return func(*sum_args)           \n",
    "        \n",
    "        return func(*[one_arg\n",
    "                      for one_arg in args\n",
    "                      if isinstance(one_arg, int)])\n",
    "    return wrapper\n",
    "\n",
    "\n",
    "# now let's decorate the function!\n",
    "\n",
    "@only_ints\n",
    "def mysum(*args):\n",
    "    total = 0\n",
    "\n",
    "    for one_number in args: \n",
    "        total += one_number\n",
    "\n",
    "    return total\n",
    "\n",
    "mysum(10, 25, 30, 'Hello', 35)"
   ]
  },
  {
   "cell_type": "code",
   "execution_count": null,
   "id": "2d14ad54-e438-489f-93e6-eb53c692c964",
   "metadata": {},
   "outputs": [],
   "source": []
  }
 ],
 "metadata": {
  "kernelspec": {
   "display_name": "Python 3 (ipykernel)",
   "language": "python",
   "name": "python3"
  },
  "language_info": {
   "codemirror_mode": {
    "name": "ipython",
    "version": 3
   },
   "file_extension": ".py",
   "mimetype": "text/x-python",
   "name": "python",
   "nbconvert_exporter": "python",
   "pygments_lexer": "ipython3",
   "version": "3.12.3"
  }
 },
 "nbformat": 4,
 "nbformat_minor": 5
}
