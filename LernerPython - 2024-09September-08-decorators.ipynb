{
 "cells": [
  {
   "cell_type": "markdown",
   "metadata": {},
   "source": [
    "GitHub repo for this: https://github.com/reuven/2024-09September-08-decorators\n",
    "\n",
    "# Decorators\n",
    "\n",
    "1. What are decorators?\n",
    "2. Writing your first decorator\n",
    "3. Outer function storage\n",
    "4. Inputs and outputs\n",
    "5. Decorators that take arguments\n",
    "6. Nested decorators\n",
    "7. Decorating classes\n",
    "8. Writing decorators as classes"
   ]
  },
  {
   "cell_type": "code",
   "execution_count": null,
   "metadata": {},
   "outputs": [],
   "source": []
  }
 ],
 "metadata": {
  "kernelspec": {
   "display_name": "Python 3 (ipykernel)",
   "language": "python",
   "name": "python3"
  },
  "language_info": {
   "codemirror_mode": {
    "name": "ipython",
    "version": 3
   },
   "file_extension": ".py",
   "mimetype": "text/x-python",
   "name": "python",
   "nbconvert_exporter": "python",
   "pygments_lexer": "ipython3",
   "version": "3.12.5"
  }
 },
 "nbformat": 4,
 "nbformat_minor": 4
}
