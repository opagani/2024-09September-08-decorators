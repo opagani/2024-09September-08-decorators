{
 "cells": [
  {
   "cell_type": "markdown",
   "metadata": {},
   "source": [
    "GitHub repo for this: https://github.com/reuven/2024-09September-08-decorators\n",
    "\n",
    "# Decorators\n",
    "\n",
    "1. What are decorators?\n",
    "2. Writing your first decorator\n",
    "3. Outer function storage\n",
    "4. Inputs and outputs\n",
    "5. Decorators that take arguments\n",
    "6. Nested decorators\n",
    "7. Decorating classes\n",
    "8. Writing decorators as classes"
   ]
  },
  {
   "cell_type": "code",
   "execution_count": 1,
   "metadata": {},
   "outputs": [],
   "source": [
    "# let's assume that we have two simple functions, a and b, which return something very simple\n",
    "\n",
    "def a():\n",
    "    return f'A!\\n'\n",
    "\n",
    "def b():\n",
    "    return f'B!\\n'"
   ]
  },
  {
   "cell_type": "code",
   "execution_count": 2,
   "metadata": {},
   "outputs": [
    {
     "name": "stdout",
     "output_type": "stream",
     "text": [
      "A!\n",
      "\n",
      "B!\n",
      "\n"
     ]
    }
   ],
   "source": [
    "print(a())\n",
    "print(b())"
   ]
  },
  {
   "cell_type": "code",
   "execution_count": 3,
   "metadata": {},
   "outputs": [
    {
     "name": "stdout",
     "output_type": "stream",
     "text": [
      "------------------------------------------------------------\n",
      "A!\n",
      "------------------------------------------------------------\n",
      "\n",
      "------------------------------------------------------------\n",
      "B!\n",
      "------------------------------------------------------------\n",
      "\n"
     ]
    }
   ],
   "source": [
    "# our company has mandated that we put dashed lines above and below everything we print\n",
    "# one option is for us to rewrite the functions\n",
    "\n",
    "lines = '-' * 60 + '\\n'\n",
    "\n",
    "def a():\n",
    "    return f'{lines}A!\\n{lines}'\n",
    "\n",
    "def b():\n",
    "    return f'{lines}B!\\n{lines}'\n",
    "\n",
    "print(a())\n",
    "print(b())"
   ]
  },
  {
   "cell_type": "code",
   "execution_count": 5,
   "metadata": {},
   "outputs": [
    {
     "name": "stdout",
     "output_type": "stream",
     "text": [
      "------------------------------------------------------------\n",
      "A!\n",
      "------------------------------------------------------------\n",
      "\n",
      "------------------------------------------------------------\n",
      "B!\n",
      "------------------------------------------------------------\n",
      "\n"
     ]
    }
   ],
   "source": [
    "# the problem is that we will need to repeat this for every function we write!\n",
    "\n",
    "# how can I rewrite this, such that I repeat myself as little as possible?\n",
    "# option 1: write a function that takes our function as input, and returns the lines + our function's output\n",
    "\n",
    "lines = '-' * 60 + '\\n'\n",
    "\n",
    "def with_lines(func):\n",
    "    return f'{lines}{func()}{lines}'\n",
    "\n",
    "def a():\n",
    "    return f'A!\\n'\n",
    "\n",
    "def b():\n",
    "    return f'B!\\n'\n",
    "    \n",
    "print(with_lines(a))  # I'm not calling a\n",
    "print(with_lines(b))  # I'm not calling b, either!"
   ]
  },
  {
   "cell_type": "code",
   "execution_count": 6,
   "metadata": {},
   "outputs": [
    {
     "name": "stdout",
     "output_type": "stream",
     "text": [
      "------------------------------------------------------------\n",
      "A!\n",
      "------------------------------------------------------------\n",
      "\n",
      "------------------------------------------------------------\n",
      "B!\n",
      "------------------------------------------------------------\n",
      "\n"
     ]
    }
   ],
   "source": [
    "# the problem with the above is that we broke the existing/older API\n",
    "# can we accomplish our goals, while keeping the old API?\n",
    "\n",
    "# option 2: write a function that returns a function\n",
    "# this is known as a closure -- we call a function, it returns a function, and then we assign that returned function to a variable\n",
    "\n",
    "lines = '-' * 60 + '\\n'\n",
    "\n",
    "def with_lines(func):\n",
    "    def wrapper():\n",
    "        return f'{lines}{func()}{lines}'\n",
    "    return wrapper\n",
    "\n",
    "def a():\n",
    "    return f'A!\\n'\n",
    "with_lines_a = with_lines(a)   # once again, I'm not calling a\n",
    "\n",
    "def b():\n",
    "    return f'B!\\n'\n",
    "with_lines_b = with_lines(b)  \n",
    "    \n",
    "print(with_lines_a())  \n",
    "print(with_lines_b()) "
   ]
  },
  {
   "cell_type": "markdown",
   "metadata": {},
   "source": [
    "# How many functions?\n",
    "\n",
    "1. We have the original `a` and `b` functions\n",
    "2. We have `with_lines`, which we call, passing `a` and `b` to it\n",
    "3. We have two functions, `with_lines_a` and `with_lines_b`, that we got back from calling `with_lines` with `a` and `b`\n",
    "\n",
    "This is fine, but we can do even better -- we can assign the returned function from `with_lines(a)` not to `with_lines_a`, but rather to `a`. Similarly, we can assign the result of `with_lines(b)` back to `b`. As soon as we do that, we don't have direct access to the original `a` and `b` functions."
   ]
  },
  {
   "cell_type": "code",
   "execution_count": null,
   "metadata": {},
   "outputs": [],
   "source": []
  }
 ],
 "metadata": {
  "kernelspec": {
   "display_name": "Python 3 (ipykernel)",
   "language": "python",
   "name": "python3"
  },
  "language_info": {
   "codemirror_mode": {
    "name": "ipython",
    "version": 3
   },
   "file_extension": ".py",
   "mimetype": "text/x-python",
   "name": "python",
   "nbconvert_exporter": "python",
   "pygments_lexer": "ipython3",
   "version": "3.12.5"
  }
 },
 "nbformat": 4,
 "nbformat_minor": 4
}
