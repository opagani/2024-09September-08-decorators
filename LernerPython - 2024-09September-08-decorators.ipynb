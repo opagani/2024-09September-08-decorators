{
 "cells": [
  {
   "cell_type": "markdown",
   "metadata": {},
   "source": [
    "GitHub repo for this: https://github.com/reuven/2024-09September-08-decorators\n",
    "\n",
    "# Decorators\n",
    "\n",
    "1. What are decorators?\n",
    "2. Writing your first decorator\n",
    "3. Outer function storage\n",
    "4. Inputs and outputs\n",
    "5. Decorators that take arguments\n",
    "6. Nested decorators\n",
    "7. Decorating classes\n",
    "8. Writing decorators as classes"
   ]
  },
  {
   "cell_type": "code",
   "execution_count": 1,
   "metadata": {},
   "outputs": [],
   "source": [
    "# let's assume that we have two simple functions, a and b, which return something very simple\n",
    "\n",
    "def a():\n",
    "    return f'A!\\n'\n",
    "\n",
    "def b():\n",
    "    return f'B!\\n'"
   ]
  },
  {
   "cell_type": "code",
   "execution_count": 2,
   "metadata": {},
   "outputs": [
    {
     "name": "stdout",
     "output_type": "stream",
     "text": [
      "A!\n",
      "\n",
      "B!\n",
      "\n"
     ]
    }
   ],
   "source": [
    "print(a())\n",
    "print(b())"
   ]
  },
  {
   "cell_type": "code",
   "execution_count": 3,
   "metadata": {},
   "outputs": [
    {
     "name": "stdout",
     "output_type": "stream",
     "text": [
      "------------------------------------------------------------\n",
      "A!\n",
      "------------------------------------------------------------\n",
      "\n",
      "------------------------------------------------------------\n",
      "B!\n",
      "------------------------------------------------------------\n",
      "\n"
     ]
    }
   ],
   "source": [
    "# our company has mandated that we put dashed lines above and below everything we print\n",
    "# one option is for us to rewrite the functions\n",
    "\n",
    "lines = '-' * 60 + '\\n'\n",
    "\n",
    "def a():\n",
    "    return f'{lines}A!\\n{lines}'\n",
    "\n",
    "def b():\n",
    "    return f'{lines}B!\\n{lines}'\n",
    "\n",
    "print(a())\n",
    "print(b())"
   ]
  },
  {
   "cell_type": "code",
   "execution_count": 5,
   "metadata": {},
   "outputs": [
    {
     "name": "stdout",
     "output_type": "stream",
     "text": [
      "------------------------------------------------------------\n",
      "A!\n",
      "------------------------------------------------------------\n",
      "\n",
      "------------------------------------------------------------\n",
      "B!\n",
      "------------------------------------------------------------\n",
      "\n"
     ]
    }
   ],
   "source": [
    "# the problem is that we will need to repeat this for every function we write!\n",
    "\n",
    "# how can I rewrite this, such that I repeat myself as little as possible?\n",
    "# option 1: write a function that takes our function as input, and returns the lines + our function's output\n",
    "\n",
    "lines = '-' * 60 + '\\n'\n",
    "\n",
    "def with_lines(func):\n",
    "    return f'{lines}{func()}{lines}'\n",
    "\n",
    "def a():\n",
    "    return f'A!\\n'\n",
    "\n",
    "def b():\n",
    "    return f'B!\\n'\n",
    "    \n",
    "print(with_lines(a))  # I'm not calling a\n",
    "print(with_lines(b))  # I'm not calling b, either!"
   ]
  },
  {
   "cell_type": "code",
   "execution_count": 6,
   "metadata": {},
   "outputs": [
    {
     "name": "stdout",
     "output_type": "stream",
     "text": [
      "------------------------------------------------------------\n",
      "A!\n",
      "------------------------------------------------------------\n",
      "\n",
      "------------------------------------------------------------\n",
      "B!\n",
      "------------------------------------------------------------\n",
      "\n"
     ]
    }
   ],
   "source": [
    "# the problem with the above is that we broke the existing/older API\n",
    "# can we accomplish our goals, while keeping the old API?\n",
    "\n",
    "# option 2: write a function that returns a function\n",
    "# this is known as a closure -- we call a function, it returns a function, and then we assign that returned function to a variable\n",
    "\n",
    "lines = '-' * 60 + '\\n'\n",
    "\n",
    "def with_lines(func):  \n",
    "    def wrapper():    # closure\n",
    "        return f'{lines}{func()}{lines}'\n",
    "    return wrapper\n",
    "\n",
    "def a():\n",
    "    return f'A!\\n'\n",
    "with_lines_a = with_lines(a)   # once again, I'm not calling a\n",
    "\n",
    "def b():\n",
    "    return f'B!\\n'\n",
    "with_lines_b = with_lines(b)  \n",
    "    \n",
    "print(with_lines_a())  \n",
    "print(with_lines_b()) "
   ]
  },
  {
   "cell_type": "markdown",
   "metadata": {},
   "source": [
    "# How many functions?\n",
    "\n",
    "1. We have the original `a` and `b` functions\n",
    "2. We have `with_lines`, which we call, passing `a` and `b` to it\n",
    "3. We have two functions, `with_lines_a` and `with_lines_b`, that we got back from calling `with_lines` with `a` and `b`\n",
    "\n",
    "This is fine, but we can do even better -- we can assign the returned function from `with_lines(a)` not to `with_lines_a`, but rather to `a`. Similarly, we can assign the result of `with_lines(b)` back to `b`. As soon as we do that, we don't have direct access to the original `a` and `b` functions."
   ]
  },
  {
   "cell_type": "code",
   "execution_count": 7,
   "metadata": {},
   "outputs": [
    {
     "name": "stdout",
     "output_type": "stream",
     "text": [
      "------------------------------------------------------------\n",
      "A!\n",
      "------------------------------------------------------------\n",
      "\n",
      "------------------------------------------------------------\n",
      "B!\n",
      "------------------------------------------------------------\n",
      "\n"
     ]
    }
   ],
   "source": [
    "# option 3: don't define with_lines_a and with_lines_b. Rather, just assign back to a and b\n",
    "# at this point, we have returned the original API, where we can call a() and b(), to working order\n",
    "\n",
    "lines = '-' * 60 + '\\n'\n",
    "\n",
    "def with_lines(func):  \n",
    "    def wrapper():    # closure\n",
    "        return f'{lines}{func()}{lines}'\n",
    "    return wrapper\n",
    "\n",
    "def a():\n",
    "    return f'A!\\n'\n",
    "a = with_lines(a)   # once again, I'm not calling a\n",
    "\n",
    "def b():\n",
    "    return f'B!\\n'\n",
    "b = with_lines(b)  \n",
    "    \n",
    "print(a())  \n",
    "print(b()) "
   ]
  },
  {
   "cell_type": "code",
   "execution_count": 8,
   "metadata": {
    "scrolled": true
   },
   "outputs": [
    {
     "name": "stdout",
     "output_type": "stream",
     "text": [
      "------------------------------------------------------------\n",
      "A!\n",
      "------------------------------------------------------------\n",
      "\n",
      "------------------------------------------------------------\n",
      "B!\n",
      "------------------------------------------------------------\n",
      "\n"
     ]
    }
   ],
   "source": [
    "# Finally, we can use Python's decorator syntax\n",
    "# this is identical in functionality to what we just did and saw, but it looks a bit different\n",
    "\n",
    "\n",
    "lines = '-' * 60 + '\\n'\n",
    "\n",
    "def with_lines(func):  \n",
    "    def wrapper():    # closure\n",
    "        return f'{lines}{func()}{lines}'\n",
    "    return wrapper\n",
    "\n",
    "@with_lines    # this line is equivalent to line 15\n",
    "def a():\n",
    "    return f'A!\\n'\n",
    "# a = with_lines(a)   \n",
    "\n",
    "@with_lines   # this is equivalent to line 20\n",
    "def b():\n",
    "    return f'B!\\n'\n",
    "# b = with_lines(b)  \n",
    "    \n",
    "print(a())  \n",
    "print(b()) "
   ]
  },
  {
   "cell_type": "markdown",
   "metadata": {},
   "source": [
    "# Implications of this syntax\n",
    "\n",
    "1. Don't have both line 12 + 15! There's normally no reason for line 15, but if you're teaching decorators, forgetting to comment out one of them can be not good.\n",
    "2. If you want to apply the same decorator to a number of different functions, you must say @decorator above each definition."
   ]
  },
  {
   "cell_type": "markdown",
   "metadata": {},
   "source": [
    "# Can we decorate anything?\n",
    "\n",
    "Yes, we can now decorate any function so long as it takes *zero* arguments.\n",
    "\n",
    "\n"
   ]
  },
  {
   "cell_type": "code",
   "execution_count": 14,
   "metadata": {},
   "outputs": [
    {
     "name": "stdout",
     "output_type": "stream",
     "text": [
      "{'args': (), 'func': <function a at 0x11172a480>}\n",
      "------------------------------------------------------------\n",
      "A!\n",
      "------------------------------------------------------------\n",
      "\n",
      "{'args': (), 'func': <function b at 0x11172a3e0>}\n",
      "------------------------------------------------------------\n",
      "B!\n",
      "------------------------------------------------------------\n",
      "\n",
      "{'args': (3, 5), 'func': <function addition at 0x111728d60>}\n",
      "------------------------------------------------------------\n",
      "3 + 5 = 8\n",
      "------------------------------------------------------------\n",
      "\n"
     ]
    }
   ],
   "source": [
    "lines = '-' * 60 + '\\n'\n",
    "\n",
    "def with_lines(func):    # this is called at function-definition time\n",
    "    def wrapper(*args):  # this is called once for each time the decorated function is invoked\n",
    "        print(locals())\n",
    "        return f'{lines}{func(*args)}{lines}'  # here, we unroll *args into zero or more arguments\n",
    "    return wrapper\n",
    "\n",
    "@with_lines    # this line is equivalent to line 15\n",
    "def a():\n",
    "    return f'A!\\n'\n",
    "\n",
    "@with_lines   # this is equivalent to line 20\n",
    "def b():\n",
    "    return f'B!\\n'\n",
    "\n",
    "@with_lines\n",
    "def addition(first, second):\n",
    "    return f'{first} + {second} = {first+second}\\n'\n",
    "\n",
    "print(a())  \n",
    "print(b()) \n",
    "print(addition(3, 5))"
   ]
  },
  {
   "cell_type": "markdown",
   "metadata": {},
   "source": [
    "# What happens to `addition`?\n",
    "\n",
    "1. We define the `addition` function in lines 17-18, as per usual.\n",
    "2. After its definition is complete, then Python runs `addition = with_lines(addition)`. It does this thanks to the `@with_lines` on line 16, which decorates the function on lines 17-18.\n",
    "3. That runs `with_lines`, passing it `addition` as an argument.\n",
    "4. The only thing that `with_lines` does is define `wrapper` and then return it. Note that `wrapper` is not invoked at this stage!\n",
    "5. Whatever `with_lines` returns (`wrapper` in this case) is assigned back to `addition`, which we defined back in step 1, on lines 17-18.\n",
    "6. When we invoke `addition`, we're really invoking `wrapper`, which grabs `func` from the local variables of its enclosing function, invokes the function, and then returns its value inside of a dashed string."
   ]
  },
  {
   "cell_type": "code",
   "execution_count": null,
   "metadata": {},
   "outputs": [],
   "source": []
  },
  {
   "cell_type": "code",
   "execution_count": null,
   "metadata": {},
   "outputs": [],
   "source": []
  },
  {
   "cell_type": "markdown",
   "metadata": {},
   "source": [
    "# Who needs this? Where do we use decorators?\n",
    "\n",
    "1. If I have several functions that need to do the same thing, I can extract that functionality into a decorator, and simplify my code.\n",
    "2. Timing of functions\n",
    "3. Logging of functions\n",
    "4. Security wrappers\n",
    "5. Setting values before/after a function runs\n",
    "6. Check inputs and/or filter them\n",
    "7. Check outputs and/or filter them\n",
    "\n",
    "Decorators allow us to hijack a function both when it is defined (then, the outer function is run) and when it is invoked (then, the inner function is run). These are fully fledged functions that we can use however we want.\n",
    "\n",
    "Some examples in the Python world of where we use decorators:\n",
    "- `@property`\n",
    "- Pytest, many of its things use decorators\n",
    "- Flask or Django\n",
    "- FastAPI\n",
    "- SQLAlchemy"
   ]
  },
  {
   "cell_type": "markdown",
   "metadata": {},
   "source": [
    "# How do we write a decorator?\n",
    "\n",
    "We're going to need an outer function and an inner function.\n",
    "\n",
    "1. The outer function, the decorator, takes one argument, `func`. The argument is the function that will be decorated. The outer function is invoked *once*, just after the decorated function is defined.\n",
    "2. The inner function, typically called `wrapper`, which takes `*args` (or `**kwargs`). This function is invoked once for each time the original (decorated) function is invoked. It can do whatever it wants with inputs and outputs.\n",
    "3. After defining the inner function, the outer function returns `wrapper`.\n",
    "4. Once that's done, we can decorate any function we want."
   ]
  },
  {
   "cell_type": "markdown",
   "metadata": {},
   "source": [
    "# Python tutor visualization of this decorator\n",
    "\n",
    "https://pythontutor.com/render.html#code=lines%20%3D%20'-'%20*%2060%20%2B%20'%5Cn'%0A%0Adef%20with_lines%28func%29%3A%20%20%0A%20%20%20%20def%20wrapper%28*args%29%3A%20%20%20%20%23%20this%20function%20takes%20any%20number%20of%20positional%20arguments%0A%20%20%20%20%20%20%20%20return%20f'%7Blines%7D%7Bfunc%28*args%29%7D%7Blines%7D'%20%20%23%20here,%20we%20unroll%20*args%20into%20zero%20or%20more%20arguments%0A%20%20%20%20return%20wrapper%0A%0A%40with_lines%20%20%20%20%23%20this%20line%20is%20equivalent%20to%20line%2015%0Adef%20a%28%29%3A%0A%20%20%20%20return%20f'A!%5Cn'%0A%0A%40with_lines%20%20%20%23%20this%20is%20equivalent%20to%20line%2020%0Adef%20b%28%29%3A%0A%20%20%20%20return%20f'B!%5Cn'%0A%0A%40with_lines%0Adef%20addition%28first,%20second%29%3A%0A%20%20%20%20return%20f'%7Bfirst%7D%20%2B%20%7Bsecond%7D%20%3D%20%7Bfirst%2Bsecond%7D%5Cn'%0A%0Aprint%28a%28%29%29%20%20%0Aprint%28b%28%29%29%20%0Aprint%28addition%283,%205%29%29&cumulative=false&curInstr=47&heapPrimitives=nevernest&mode=display&origin=opt-frontend.js&py=311&rawInputLstJSON=%5B%5D&textReferences=false"
   ]
  },
  {
   "cell_type": "markdown",
   "metadata": {},
   "source": [
    "# Exercise: Shouter\n",
    "\n",
    "1. Write a decorator, `shouter`, that decorates functions that return strings.\n",
    "2. Any such function's output will return in `ALL CAPS` and with an explanation point at the end.\n",
    "Example:\n",
    "\n",
    "```python\n",
    "@shouter\n",
    "def hello(name):\n",
    "    return f'Hello, {name}'\n",
    "\n",
    "print(hello('Reuven'))   # output HELLO, REUVEN!   "
   ]
  },
  {
   "cell_type": "code",
   "execution_count": null,
   "metadata": {},
   "outputs": [],
   "source": []
  }
 ],
 "metadata": {
  "kernelspec": {
   "display_name": "Python 3 (ipykernel)",
   "language": "python",
   "name": "python3"
  },
  "language_info": {
   "codemirror_mode": {
    "name": "ipython",
    "version": 3
   },
   "file_extension": ".py",
   "mimetype": "text/x-python",
   "name": "python",
   "nbconvert_exporter": "python",
   "pygments_lexer": "ipython3",
   "version": "3.12.5"
  }
 },
 "nbformat": 4,
 "nbformat_minor": 4
}
