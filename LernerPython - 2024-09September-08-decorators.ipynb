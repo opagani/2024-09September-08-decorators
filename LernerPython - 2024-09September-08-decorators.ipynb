{
 "cells": [
  {
   "cell_type": "markdown",
   "metadata": {},
   "source": [
    "GitHub repo for this: https://github.com/reuven/2024-09September-08-decorators\n",
    "\n",
    "# Decorators\n",
    "\n",
    "1. What are decorators?\n",
    "2. Writing your first decorator\n",
    "3. Outer function storage\n",
    "4. Inputs and outputs\n",
    "5. Decorators that take arguments\n",
    "6. Nested decorators\n",
    "7. Decorating classes\n",
    "8. Writing decorators as classes"
   ]
  },
  {
   "cell_type": "code",
   "execution_count": 1,
   "metadata": {},
   "outputs": [],
   "source": [
    "# let's assume that we have two simple functions, a and b, which return something very simple\n",
    "\n",
    "def a():\n",
    "    return f'A!\\n'\n",
    "\n",
    "def b():\n",
    "    return f'B!\\n'"
   ]
  },
  {
   "cell_type": "code",
   "execution_count": 2,
   "metadata": {},
   "outputs": [
    {
     "name": "stdout",
     "output_type": "stream",
     "text": [
      "A!\n",
      "\n",
      "B!\n",
      "\n"
     ]
    }
   ],
   "source": [
    "print(a())\n",
    "print(b())"
   ]
  },
  {
   "cell_type": "code",
   "execution_count": 3,
   "metadata": {},
   "outputs": [
    {
     "name": "stdout",
     "output_type": "stream",
     "text": [
      "------------------------------------------------------------\n",
      "A!\n",
      "------------------------------------------------------------\n",
      "\n",
      "------------------------------------------------------------\n",
      "B!\n",
      "------------------------------------------------------------\n",
      "\n"
     ]
    }
   ],
   "source": [
    "# our company has mandated that we put dashed lines above and below everything we print\n",
    "# one option is for us to rewrite the functions\n",
    "\n",
    "lines = '-' * 60 + '\\n'\n",
    "\n",
    "def a():\n",
    "    return f'{lines}A!\\n{lines}'\n",
    "\n",
    "def b():\n",
    "    return f'{lines}B!\\n{lines}'\n",
    "\n",
    "print(a())\n",
    "print(b())"
   ]
  },
  {
   "cell_type": "code",
   "execution_count": 5,
   "metadata": {},
   "outputs": [
    {
     "name": "stdout",
     "output_type": "stream",
     "text": [
      "------------------------------------------------------------\n",
      "A!\n",
      "------------------------------------------------------------\n",
      "\n",
      "------------------------------------------------------------\n",
      "B!\n",
      "------------------------------------------------------------\n",
      "\n"
     ]
    }
   ],
   "source": [
    "# the problem is that we will need to repeat this for every function we write!\n",
    "\n",
    "# how can I rewrite this, such that I repeat myself as little as possible?\n",
    "# option 1: write a function that takes our function as input, and returns the lines + our function's output\n",
    "\n",
    "lines = '-' * 60 + '\\n'\n",
    "\n",
    "def with_lines(func):\n",
    "    return f'{lines}{func()}{lines}'\n",
    "\n",
    "def a():\n",
    "    return f'A!\\n'\n",
    "\n",
    "def b():\n",
    "    return f'B!\\n'\n",
    "    \n",
    "print(with_lines(a))  # I'm not calling a\n",
    "print(with_lines(b))  # I'm not calling b, either!"
   ]
  },
  {
   "cell_type": "code",
   "execution_count": 6,
   "metadata": {},
   "outputs": [
    {
     "name": "stdout",
     "output_type": "stream",
     "text": [
      "------------------------------------------------------------\n",
      "A!\n",
      "------------------------------------------------------------\n",
      "\n",
      "------------------------------------------------------------\n",
      "B!\n",
      "------------------------------------------------------------\n",
      "\n"
     ]
    }
   ],
   "source": [
    "# the problem with the above is that we broke the existing/older API\n",
    "# can we accomplish our goals, while keeping the old API?\n",
    "\n",
    "# option 2: write a function that returns a function\n",
    "# this is known as a closure -- we call a function, it returns a function, and then we assign that returned function to a variable\n",
    "\n",
    "lines = '-' * 60 + '\\n'\n",
    "\n",
    "def with_lines(func):  \n",
    "    def wrapper():    # closure\n",
    "        return f'{lines}{func()}{lines}'\n",
    "    return wrapper\n",
    "\n",
    "def a():\n",
    "    return f'A!\\n'\n",
    "with_lines_a = with_lines(a)   # once again, I'm not calling a\n",
    "\n",
    "def b():\n",
    "    return f'B!\\n'\n",
    "with_lines_b = with_lines(b)  \n",
    "    \n",
    "print(with_lines_a())  \n",
    "print(with_lines_b()) "
   ]
  },
  {
   "cell_type": "markdown",
   "metadata": {},
   "source": [
    "# How many functions?\n",
    "\n",
    "1. We have the original `a` and `b` functions\n",
    "2. We have `with_lines`, which we call, passing `a` and `b` to it\n",
    "3. We have two functions, `with_lines_a` and `with_lines_b`, that we got back from calling `with_lines` with `a` and `b`\n",
    "\n",
    "This is fine, but we can do even better -- we can assign the returned function from `with_lines(a)` not to `with_lines_a`, but rather to `a`. Similarly, we can assign the result of `with_lines(b)` back to `b`. As soon as we do that, we don't have direct access to the original `a` and `b` functions."
   ]
  },
  {
   "cell_type": "code",
   "execution_count": 7,
   "metadata": {},
   "outputs": [
    {
     "name": "stdout",
     "output_type": "stream",
     "text": [
      "------------------------------------------------------------\n",
      "A!\n",
      "------------------------------------------------------------\n",
      "\n",
      "------------------------------------------------------------\n",
      "B!\n",
      "------------------------------------------------------------\n",
      "\n"
     ]
    }
   ],
   "source": [
    "# option 3: don't define with_lines_a and with_lines_b. Rather, just assign back to a and b\n",
    "# at this point, we have returned the original API, where we can call a() and b(), to working order\n",
    "\n",
    "lines = '-' * 60 + '\\n'\n",
    "\n",
    "def with_lines(func):  \n",
    "    def wrapper():    # closure\n",
    "        return f'{lines}{func()}{lines}'\n",
    "    return wrapper\n",
    "\n",
    "def a():\n",
    "    return f'A!\\n'\n",
    "a = with_lines(a)   # once again, I'm not calling a\n",
    "\n",
    "def b():\n",
    "    return f'B!\\n'\n",
    "b = with_lines(b)  \n",
    "    \n",
    "print(a())  \n",
    "print(b()) "
   ]
  },
  {
   "cell_type": "code",
   "execution_count": 8,
   "metadata": {
    "scrolled": true
   },
   "outputs": [
    {
     "name": "stdout",
     "output_type": "stream",
     "text": [
      "------------------------------------------------------------\n",
      "A!\n",
      "------------------------------------------------------------\n",
      "\n",
      "------------------------------------------------------------\n",
      "B!\n",
      "------------------------------------------------------------\n",
      "\n"
     ]
    }
   ],
   "source": [
    "# Finally, we can use Python's decorator syntax\n",
    "# this is identical in functionality to what we just did and saw, but it looks a bit different\n",
    "\n",
    "\n",
    "lines = '-' * 60 + '\\n'\n",
    "\n",
    "def with_lines(func):  \n",
    "    def wrapper():    # closure\n",
    "        return f'{lines}{func()}{lines}'\n",
    "    return wrapper\n",
    "\n",
    "@with_lines    # this line is equivalent to line 15\n",
    "def a():\n",
    "    return f'A!\\n'\n",
    "# a = with_lines(a)   \n",
    "\n",
    "@with_lines   # this is equivalent to line 20\n",
    "def b():\n",
    "    return f'B!\\n'\n",
    "# b = with_lines(b)  \n",
    "    \n",
    "print(a())  \n",
    "print(b()) "
   ]
  },
  {
   "cell_type": "markdown",
   "metadata": {},
   "source": [
    "# Implications of this syntax\n",
    "\n",
    "1. Don't have both line 12 + 15! There's normally no reason for line 15, but if you're teaching decorators, forgetting to comment out one of them can be not good.\n",
    "2. If you want to apply the same decorator to a number of different functions, you must say @decorator above each definition."
   ]
  },
  {
   "cell_type": "markdown",
   "metadata": {},
   "source": [
    "# Can we decorate anything?\n",
    "\n",
    "Yes, we can now decorate any function so long as it takes *zero* arguments.\n",
    "\n",
    "\n"
   ]
  },
  {
   "cell_type": "code",
   "execution_count": 14,
   "metadata": {},
   "outputs": [
    {
     "name": "stdout",
     "output_type": "stream",
     "text": [
      "{'args': (), 'func': <function a at 0x11172a480>}\n",
      "------------------------------------------------------------\n",
      "A!\n",
      "------------------------------------------------------------\n",
      "\n",
      "{'args': (), 'func': <function b at 0x11172a3e0>}\n",
      "------------------------------------------------------------\n",
      "B!\n",
      "------------------------------------------------------------\n",
      "\n",
      "{'args': (3, 5), 'func': <function addition at 0x111728d60>}\n",
      "------------------------------------------------------------\n",
      "3 + 5 = 8\n",
      "------------------------------------------------------------\n",
      "\n"
     ]
    }
   ],
   "source": [
    "lines = '-' * 60 + '\\n'\n",
    "\n",
    "def with_lines(func):    # this is called at function-definition time\n",
    "    def wrapper(*args):  # this is called once for each time the decorated function is invoked\n",
    "        print(locals())\n",
    "        return f'{lines}{func(*args)}{lines}'  # here, we unroll *args into zero or more arguments\n",
    "    return wrapper\n",
    "\n",
    "@with_lines    # this line is equivalent to line 15\n",
    "def a():\n",
    "    return f'A!\\n'\n",
    "\n",
    "@with_lines   # this is equivalent to line 20\n",
    "def b():\n",
    "    return f'B!\\n'\n",
    "\n",
    "@with_lines\n",
    "def addition(first, second):\n",
    "    return f'{first} + {second} = {first+second}\\n'\n",
    "\n",
    "print(a())  \n",
    "print(b()) \n",
    "print(addition(3, 5))"
   ]
  },
  {
   "cell_type": "markdown",
   "metadata": {},
   "source": [
    "# What happens to `addition`?\n",
    "\n",
    "1. We define the `addition` function in lines 17-18, as per usual.\n",
    "2. After its definition is complete, then Python runs `addition = with_lines(addition)`. It does this thanks to the `@with_lines` on line 16, which decorates the function on lines 17-18.\n",
    "3. That runs `with_lines`, passing it `addition` as an argument.\n",
    "4. The only thing that `with_lines` does is define `wrapper` and then return it. Note that `wrapper` is not invoked at this stage!\n",
    "5. Whatever `with_lines` returns (`wrapper` in this case) is assigned back to `addition`, which we defined back in step 1, on lines 17-18.\n",
    "6. When we invoke `addition`, we're really invoking `wrapper`, which grabs `func` from the local variables of its enclosing function, invokes the function, and then returns its value inside of a dashed string."
   ]
  },
  {
   "cell_type": "code",
   "execution_count": null,
   "metadata": {},
   "outputs": [],
   "source": []
  },
  {
   "cell_type": "code",
   "execution_count": null,
   "metadata": {},
   "outputs": [],
   "source": []
  },
  {
   "cell_type": "markdown",
   "metadata": {},
   "source": [
    "# Who needs this? Where do we use decorators?\n",
    "\n",
    "1. If I have several functions that need to do the same thing, I can extract that functionality into a decorator, and simplify my code.\n",
    "2. Timing of functions\n",
    "3. Logging of functions\n",
    "4. Security wrappers\n",
    "5. Setting values before/after a function runs\n",
    "6. Check inputs and/or filter them\n",
    "7. Check outputs and/or filter them\n",
    "\n",
    "Decorators allow us to hijack a function both when it is defined (then, the outer function is run) and when it is invoked (then, the inner function is run). These are fully fledged functions that we can use however we want.\n",
    "\n",
    "Some examples in the Python world of where we use decorators:\n",
    "- `@property`\n",
    "- Pytest, many of its things use decorators\n",
    "- Flask or Django\n",
    "- FastAPI\n",
    "- SQLAlchemy"
   ]
  },
  {
   "cell_type": "markdown",
   "metadata": {},
   "source": [
    "# How do we write a decorator?\n",
    "\n",
    "We're going to need an outer function and an inner function.\n",
    "\n",
    "1. The outer function, the decorator, takes one argument, `func`. The argument is the function that will be decorated. The outer function is invoked *once*, just after the decorated function is defined.\n",
    "2. The inner function, typically called `wrapper`, which takes `*args` (or `**kwargs`). This function is invoked once for each time the original (decorated) function is invoked. It can do whatever it wants with inputs and outputs.\n",
    "3. After defining the inner function, the outer function returns `wrapper`.\n",
    "4. Once that's done, we can decorate any function we want."
   ]
  },
  {
   "cell_type": "markdown",
   "metadata": {},
   "source": [
    "# Python tutor visualization of this decorator\n",
    "\n",
    "https://pythontutor.com/render.html#code=lines%20%3D%20'-'%20*%2060%20%2B%20'%5Cn'%0A%0Adef%20with_lines%28func%29%3A%20%20%0A%20%20%20%20def%20wrapper%28*args%29%3A%20%20%20%20%23%20this%20function%20takes%20any%20number%20of%20positional%20arguments%0A%20%20%20%20%20%20%20%20return%20f'%7Blines%7D%7Bfunc%28*args%29%7D%7Blines%7D'%20%20%23%20here,%20we%20unroll%20*args%20into%20zero%20or%20more%20arguments%0A%20%20%20%20return%20wrapper%0A%0A%40with_lines%20%20%20%20%23%20this%20line%20is%20equivalent%20to%20line%2015%0Adef%20a%28%29%3A%0A%20%20%20%20return%20f'A!%5Cn'%0A%0A%40with_lines%20%20%20%23%20this%20is%20equivalent%20to%20line%2020%0Adef%20b%28%29%3A%0A%20%20%20%20return%20f'B!%5Cn'%0A%0A%40with_lines%0Adef%20addition%28first,%20second%29%3A%0A%20%20%20%20return%20f'%7Bfirst%7D%20%2B%20%7Bsecond%7D%20%3D%20%7Bfirst%2Bsecond%7D%5Cn'%0A%0Aprint%28a%28%29%29%20%20%0Aprint%28b%28%29%29%20%0Aprint%28addition%283,%205%29%29&cumulative=false&curInstr=47&heapPrimitives=nevernest&mode=display&origin=opt-frontend.js&py=311&rawInputLstJSON=%5B%5D&textReferences=false"
   ]
  },
  {
   "cell_type": "markdown",
   "metadata": {},
   "source": [
    "# Exercise: Shouter\n",
    "\n",
    "1. Write a decorator, `shouter`, that decorates functions that return strings.\n",
    "2. Any such function's output will return in `ALL CAPS` and with an explanation point at the end.\n",
    "Example:\n",
    "\n",
    "```python\n",
    "@shouter\n",
    "def hello(name):\n",
    "    return f'Hello, {name}'\n",
    "\n",
    "print(hello('Reuven'))   # output HELLO, REUVEN!   "
   ]
  },
  {
   "cell_type": "code",
   "execution_count": 18,
   "metadata": {},
   "outputs": [
    {
     "name": "stdout",
     "output_type": "stream",
     "text": [
      "HELLO, REUVEN!\n"
     ]
    }
   ],
   "source": [
    "def shouter(func):       # (3) shouter is invoked on hello after hello is defined\n",
    "    def wrapper(*args):  # (4) wrapper is returned by shouter, and replaces the original hello\n",
    "        return f'{func(*args)}!'.upper()\n",
    "    return wrapper\n",
    "\n",
    "@shouter           # (2) we decorate hello with shouter\n",
    "def hello(name):   # (1) we define hello\n",
    "    return f'Hello, {name}'\n",
    "\n",
    "print(hello('Reuven'))   # (5) we call hello, but that really invokes wrapper, which then invokes the original hello"
   ]
  },
  {
   "cell_type": "code",
   "execution_count": 19,
   "metadata": {},
   "outputs": [
    {
     "name": "stdout",
     "output_type": "stream",
     "text": [
      "Help on function wrapper in module __main__:\n",
      "\n",
      "wrapper(*args)\n",
      "\n"
     ]
    }
   ],
   "source": [
    "help(hello)"
   ]
  },
  {
   "cell_type": "markdown",
   "metadata": {},
   "source": [
    "# Exercise: Timing of functions\n",
    "\n",
    "Write a decorator, `timefunc`, that will not change the inputs or outputs of the decorated function *but* we will time how long it takes to run the function, and will record that to a file called `timing.txt`.\n",
    "\n",
    "Every time I run the decorated function, I'll get one more line in `timing.txt` with the function name, when it started running, and how long it took to run. \n",
    "\n",
    "Hints:\n",
    "\n",
    "- Normally, writing to a file with `w` will erase any previous contents. Instead, open the file with `a` (\"append\"), and then you'll write to the end.\n",
    "- You can get a function's name from its `__name__` attribute.\n",
    "- You can get the current Unix time (seconds since January 1st, 1970 at midnight) with `time.time()`.\n",
    "\n",
    "I should be able to say the following:\n",
    "\n",
    "```python\n",
    "import random\n",
    "import time\n",
    "\n",
    "@timefunc\n",
    "def slow_add(a, b):\n",
    "    time.sleep(random.randint(0, 3))\n",
    "    return a + b\n",
    "\n",
    "@timefunc\n",
    "def slow_mul(a, b):\n",
    "    time.sleep(random.randint(0, 3))\n",
    "    return a * b\n",
    "\n",
    "print(slow_add(2, 3))\n",
    "print(slow_mul(4, 5))\n"
   ]
  },
  {
   "cell_type": "code",
   "execution_count": 20,
   "metadata": {},
   "outputs": [
    {
     "name": "stdout",
     "output_type": "stream",
     "text": [
      "hello\n"
     ]
    }
   ],
   "source": [
    "print('hello')"
   ]
  },
  {
   "cell_type": "markdown",
   "metadata": {},
   "source": [
    "# This is a headline\n",
    "\n",
    "- This is a bulleted list\n",
    "- Two\n",
    "- Three\n",
    "\n",
    "This is a numbered list:\n",
    "1. first\n",
    "2. second\n",
    "3. third\n",
    "\n",
    "You can turn a cell into Markdown mode with `ESC` and `m`, because `ESC` puts it into command mode, and `m` makes it Markdown.\n",
    "\n",
    "Similarly, `ESC` and `y` makes it a code (Python) cell."
   ]
  },
  {
   "cell_type": "code",
   "execution_count": 24,
   "metadata": {},
   "outputs": [
    {
     "name": "stdout",
     "output_type": "stream",
     "text": [
      "5\n",
      "20\n"
     ]
    }
   ],
   "source": [
    "import random\n",
    "import time\n",
    "\n",
    "def timefunc(func):        # outer function is run once per function definition\n",
    "    def wrapper(*args):    # inner function is run once per function invocation\n",
    "        start_time = time.time()\n",
    "        value = func(*args)\n",
    "        total_time = time.time() - start_time\n",
    "\n",
    "        with open('timing.txt', 'a') as outfile:\n",
    "            outfile.write(f'{func.__name__}\\t{start_time:.03f}\\t{total_time:.03f}\\n')\n",
    "\n",
    "        return value\n",
    "    return wrapper\n",
    "\n",
    "@timefunc\n",
    "def slow_add(a, b):\n",
    "    time.sleep(random.randint(0, 3))\n",
    "    return a + b\n",
    "\n",
    "@timefunc\n",
    "def slow_mul(a, b):\n",
    "    time.sleep(random.randint(0, 3))\n",
    "    return a * b\n",
    "\n",
    "print(slow_add(2, 3))\n",
    "print(slow_mul(4, 5))\n"
   ]
  },
  {
   "cell_type": "code",
   "execution_count": 25,
   "metadata": {},
   "outputs": [
    {
     "name": "stdout",
     "output_type": "stream",
     "text": [
      "slow_add\t1725816814.081\t3.002\n",
      "slow_mul\t1725816817.086\t0.000\n",
      "slow_add\t1725816838.658\t1.003\n",
      "slow_mul\t1725816839.663\t1.005\n"
     ]
    }
   ],
   "source": [
    "!cat timing.txt"
   ]
  },
  {
   "cell_type": "markdown",
   "metadata": {},
   "source": [
    "# Using the outer function\n",
    "\n",
    "We've seen that the inner function, `wrapper`, has access to the local variables from the enclosing function. But we can do more than this -- we can use the outer function for *storage* that then even gets updated across our calls.\n",
    "\n"
   ]
  },
  {
   "cell_type": "code",
   "execution_count": 28,
   "metadata": {},
   "outputs": [
    {
     "ename": "UnboundLocalError",
     "evalue": "cannot access local variable 'counter' where it is not associated with a value",
     "output_type": "error",
     "traceback": [
      "\u001b[0;31m---------------------------------------------------------------------------\u001b[0m",
      "\u001b[0;31mUnboundLocalError\u001b[0m                         Traceback (most recent call last)",
      "Cell \u001b[0;32mIn[28], line 23\u001b[0m\n\u001b[1;32m     20\u001b[0m     time\u001b[38;5;241m.\u001b[39msleep(random\u001b[38;5;241m.\u001b[39mrandint(\u001b[38;5;241m0\u001b[39m, \u001b[38;5;241m3\u001b[39m))\n\u001b[1;32m     21\u001b[0m     \u001b[38;5;28;01mreturn\u001b[39;00m a \u001b[38;5;241m*\u001b[39m b\n\u001b[0;32m---> 23\u001b[0m \u001b[38;5;28mprint\u001b[39m(\u001b[43mslow_add\u001b[49m\u001b[43m(\u001b[49m\u001b[38;5;241;43m2\u001b[39;49m\u001b[43m,\u001b[49m\u001b[43m \u001b[49m\u001b[38;5;241;43m3\u001b[39;49m\u001b[43m)\u001b[49m)\n\u001b[1;32m     24\u001b[0m \u001b[38;5;28mprint\u001b[39m(slow_mul(\u001b[38;5;241m4\u001b[39m, \u001b[38;5;241m5\u001b[39m))\n\u001b[1;32m     25\u001b[0m \u001b[38;5;28mprint\u001b[39m(slow_add(\u001b[38;5;241m3\u001b[39m, \u001b[38;5;241m4\u001b[39m))\n",
      "Cell \u001b[0;32mIn[28], line 8\u001b[0m, in \u001b[0;36mcount_calls.<locals>.wrapper\u001b[0;34m(*args)\u001b[0m\n\u001b[1;32m      6\u001b[0m \u001b[38;5;28;01mdef\u001b[39;00m \u001b[38;5;21mwrapper\u001b[39m(\u001b[38;5;241m*\u001b[39margs):\n\u001b[1;32m      7\u001b[0m     value \u001b[38;5;241m=\u001b[39m func(\u001b[38;5;241m*\u001b[39margs)\n\u001b[0;32m----> 8\u001b[0m     \u001b[43mcounter\u001b[49m \u001b[38;5;241m+\u001b[39m\u001b[38;5;241m=\u001b[39m \u001b[38;5;241m1\u001b[39m\n\u001b[1;32m      9\u001b[0m     \u001b[38;5;28mprint\u001b[39m(\u001b[38;5;124mf\u001b[39m\u001b[38;5;124m'\u001b[39m\u001b[38;5;132;01m{\u001b[39;00mfunc\u001b[38;5;241m.\u001b[39m\u001b[38;5;18m__name__\u001b[39m\u001b[38;5;132;01m}\u001b[39;00m\u001b[38;5;124m: \u001b[39m\u001b[38;5;132;01m{\u001b[39;00mcounter\u001b[38;5;132;01m=}\u001b[39;00m\u001b[38;5;124m'\u001b[39m)\n\u001b[1;32m     10\u001b[0m     \u001b[38;5;28;01mreturn\u001b[39;00m value\n",
      "\u001b[0;31mUnboundLocalError\u001b[0m: cannot access local variable 'counter' where it is not associated with a value"
     ]
    }
   ],
   "source": [
    "# I want to know how many times a function has been invoked, and print that counter to the screen every time\n",
    "# we call the function\n",
    "\n",
    "def count_calls(func):\n",
    "    counter = 0     # local variable in the outer function\n",
    "    def wrapper(*args):\n",
    "        value = func(*args)\n",
    "        counter += 1\n",
    "        print(f'{func.__name__}: {counter=}')\n",
    "        return value\n",
    "    return wrapper\n",
    "\n",
    "@count_calls\n",
    "def slow_add(a, b):\n",
    "    time.sleep(random.randint(0, 3))\n",
    "    return a + b\n",
    "\n",
    "@count_calls\n",
    "def slow_mul(a, b):\n",
    "    time.sleep(random.randint(0, 3))\n",
    "    return a * b\n",
    "\n",
    "print(slow_add(2, 3))\n",
    "print(slow_mul(4, 5))\n",
    "print(slow_add(3, 4))\n",
    "print(slow_mul(4, 9))\n",
    "print(slow_add(6, 3))\n",
    "print(slow_mul(4, 2))"
   ]
  },
  {
   "cell_type": "code",
   "execution_count": 29,
   "metadata": {},
   "outputs": [
    {
     "name": "stdout",
     "output_type": "stream",
     "text": [
      "slow_add: counter=1\n",
      "5\n",
      "slow_mul: counter=1\n",
      "20\n",
      "slow_add: counter=2\n",
      "7\n",
      "slow_mul: counter=2\n",
      "36\n",
      "slow_add: counter=3\n",
      "9\n",
      "slow_mul: counter=3\n",
      "8\n"
     ]
    }
   ],
   "source": [
    "# we have to use nonlocal!\n",
    "\n",
    "def count_calls(func):\n",
    "    counter = 0     # local variable in the outer function\n",
    "    \n",
    "    def wrapper(*args):\n",
    "        nonlocal counter    # this tells the compiler: counter is a local variable in the enclosing scope, *not* local \n",
    "        value = func(*args)\n",
    "        counter += 1\n",
    "        print(f'{func.__name__}: {counter=}')\n",
    "        return value\n",
    "    return wrapper\n",
    "\n",
    "@count_calls\n",
    "def slow_add(a, b):\n",
    "    time.sleep(random.randint(0, 3))\n",
    "    return a + b\n",
    "\n",
    "@count_calls\n",
    "def slow_mul(a, b):\n",
    "    time.sleep(random.randint(0, 3))\n",
    "    return a * b\n",
    "\n",
    "print(slow_add(2, 3))\n",
    "print(slow_mul(4, 5))\n",
    "print(slow_add(3, 4))\n",
    "print(slow_mul(4, 9))\n",
    "print(slow_add(6, 3))\n",
    "print(slow_mul(4, 2))"
   ]
  },
  {
   "cell_type": "markdown",
   "metadata": {},
   "source": [
    "# Using `nonlocal`\n",
    "\n",
    "We only need to use `nonlocal` when:\n",
    "\n",
    "- We are assigning to a variable\n",
    "- We want to affect a variable in the outer function's scope\n",
    "\n",
    "If we are *modifying* or *mutating* an external value, then we don't need the `nonlocal`. What does this mean? If the nonlocal variable is a list or dict, then we can just say `mylist[3] = 'hello'`, without `nonlocal`. That's because only assignment to a variable is picked up by the Python compiler as affecting the local/global nature of variables."
   ]
  },
  {
   "cell_type": "markdown",
   "metadata": {},
   "source": [
    "# Memoization\n",
    "\n",
    "Memoization is a caching technique that looks at the arguments to a function. If the arguments have been seen before, then we return the value from the previous call with those arguments. If the arguments are new, then we call the function for real, and then cache/store the return value for the next call.\n",
    "\n",
    "This is for deterministic, simple functions that don't affect the system's state. \n",
    "\n",
    "```python\n",
    "@memoize\n",
    "def slow_add(a, b):\n",
    "    time.sleep(random.randint(0, 3))\n",
    "    return a + b\n",
    "\n",
    "@memoize\n",
    "def slow_mul(a, b):\n",
    "    time.sleep(random.randint(0, 3))\n",
    "    return a * b\n",
    "\n",
    "print(slow_add(2, 3))  # really invoke slow_add here\n",
    "print(slow_mul(4, 5))  # really invoke slow_mul here\n",
    "print(slow_add(2, 3))  # return cached value for slow_add\n",
    "print(slow_mul(2, 3))  # really invoke slow_mus\n",
    "print(slow_add(2, 3))  # return cached value for slow_add\n",
    "print(slow_mul(2, 3))  # return cached value for slow_mul\n",
    "```\n",
    "\n",
    "Write a decorator, `memoize`, that not only works, but prints whether it's really running the function or using the cache. (Hint: You can use a dict for the cache.)"
   ]
  },
  {
   "cell_type": "code",
   "execution_count": 31,
   "metadata": {},
   "outputs": [
    {
     "name": "stdout",
     "output_type": "stream",
     "text": [
      "\tFirst time running slow_add with (2, 3); calling for real\n",
      "5\n",
      "\tFirst time running slow_mul with (4, 5); calling for real\n",
      "20\n",
      "\t\tRetrieving cached value 5 for slow_add with args (2, 3)\n",
      "5\n",
      "\tFirst time running slow_mul with (2, 3); calling for real\n",
      "6\n",
      "\t\tRetrieving cached value 5 for slow_add with args (2, 3)\n",
      "5\n",
      "\t\tRetrieving cached value 6 for slow_mul with args (2, 3)\n",
      "6\n"
     ]
    }
   ],
   "source": [
    "def memoize(func):   # outer function, the decorator, called once\n",
    "    cache = {}\n",
    "    def wrapper(*args):\n",
    "        if args not in cache:            # if this is the first time we're seeing these arguments...\n",
    "            print(f'\\tFirst time running {func.__name__} with {args}; calling for real')\n",
    "            cache[args] = func(*args)    # ... call the function and store its return value in the cache\n",
    "        else:\n",
    "            print(f'\\t\\tRetrieving cached value {cache[args]} for {func.__name__} with args {args}')\n",
    "\n",
    "        return cache[args]\n",
    "    return wrapper\n",
    "\n",
    "\n",
    "@memoize\n",
    "def slow_add(a, b):\n",
    "    time.sleep(random.randint(0, 3))\n",
    "    return a + b\n",
    "\n",
    "@memoize\n",
    "def slow_mul(a, b):\n",
    "    time.sleep(random.randint(0, 3))\n",
    "    return a * b\n",
    "\n",
    "print(slow_add(2, 3))  # really invoke slow_add here\n",
    "print(slow_mul(4, 5))  # really invoke slow_mul here\n",
    "print(slow_add(2, 3))  # return cached value for slow_add\n",
    "print(slow_mul(2, 3))  # really invoke slow_mus\n",
    "print(slow_add(2, 3))  # return cached value for slow_add\n",
    "print(slow_mul(2, 3))  # return cached value for slow_mul\n"
   ]
  },
  {
   "cell_type": "markdown",
   "metadata": {},
   "source": [
    "# Exercise: `once_per_minute`\n",
    "\n",
    "Write a decorator, `once_per_minute`, that only allows a decorated function to be run once per minute. Any more frequently than that, and it'll raise an exception. (`CalledTooSoonError`?)\n",
    "\n",
    "```python\n",
    "@once_per_minute\n",
    "def slow_add(a, b):\n",
    "    time.sleep(random.randint(0, 3))\n",
    "    return a + b\n",
    "\n",
    "@once_per_minute\n",
    "def slow_mul(a, b):\n",
    "    time.sleep(random.randint(0, 3))\n",
    "    return a * b\n",
    "\n",
    "print(slow_add(2, 3))  # works fine\n",
    "print(slow_mul(4, 5))  # works fine\n",
    "print(slow_add(2, 3))  # raises the exception here\n",
    "print(slow_mul(2, 3))  # \n",
    "print(slow_add(2, 3))  # \n",
    "print(slow_mul(2, 3))  # \n",
    "```"
   ]
  },
  {
   "cell_type": "code",
   "execution_count": 33,
   "metadata": {},
   "outputs": [
    {
     "name": "stdout",
     "output_type": "stream",
     "text": [
      "5\n",
      "20\n"
     ]
    },
    {
     "ename": "CalledTooSoonError",
     "evalue": "Too soon!",
     "output_type": "error",
     "traceback": [
      "\u001b[0;31m---------------------------------------------------------------------------\u001b[0m",
      "\u001b[0;31mCalledTooSoonError\u001b[0m                        Traceback (most recent call last)",
      "Cell \u001b[0;32mIn[33], line 30\u001b[0m\n\u001b[1;32m     28\u001b[0m \u001b[38;5;28mprint\u001b[39m(slow_add(\u001b[38;5;241m2\u001b[39m, \u001b[38;5;241m3\u001b[39m))  \u001b[38;5;66;03m# works fine\u001b[39;00m\n\u001b[1;32m     29\u001b[0m \u001b[38;5;28mprint\u001b[39m(slow_mul(\u001b[38;5;241m4\u001b[39m, \u001b[38;5;241m5\u001b[39m))  \u001b[38;5;66;03m# works fine\u001b[39;00m\n\u001b[0;32m---> 30\u001b[0m \u001b[38;5;28mprint\u001b[39m(\u001b[43mslow_add\u001b[49m\u001b[43m(\u001b[49m\u001b[38;5;241;43m2\u001b[39;49m\u001b[43m,\u001b[49m\u001b[43m \u001b[49m\u001b[38;5;241;43m3\u001b[39;49m\u001b[43m)\u001b[49m)  \u001b[38;5;66;03m# raises the exception here\u001b[39;00m\n\u001b[1;32m     31\u001b[0m \u001b[38;5;28mprint\u001b[39m(slow_mul(\u001b[38;5;241m2\u001b[39m, \u001b[38;5;241m3\u001b[39m))  \u001b[38;5;66;03m# \u001b[39;00m\n\u001b[1;32m     32\u001b[0m \u001b[38;5;28mprint\u001b[39m(slow_add(\u001b[38;5;241m2\u001b[39m, \u001b[38;5;241m3\u001b[39m))  \u001b[38;5;66;03m# \u001b[39;00m\n",
      "Cell \u001b[0;32mIn[33], line 11\u001b[0m, in \u001b[0;36monce_per_minute.<locals>.wrapper\u001b[0;34m(*args)\u001b[0m\n\u001b[1;32m      9\u001b[0m current_time \u001b[38;5;241m=\u001b[39m time\u001b[38;5;241m.\u001b[39mtime()\n\u001b[1;32m     10\u001b[0m \u001b[38;5;28;01mif\u001b[39;00m current_time \u001b[38;5;241m-\u001b[39m last_run_at \u001b[38;5;241m<\u001b[39m \u001b[38;5;241m60\u001b[39m:\n\u001b[0;32m---> 11\u001b[0m     \u001b[38;5;28;01mraise\u001b[39;00m CalledTooSoonError(\u001b[38;5;124m'\u001b[39m\u001b[38;5;124mToo soon!\u001b[39m\u001b[38;5;124m'\u001b[39m)\n\u001b[1;32m     13\u001b[0m last_run_at \u001b[38;5;241m=\u001b[39m current_time\n\u001b[1;32m     15\u001b[0m \u001b[38;5;28;01mreturn\u001b[39;00m func(\u001b[38;5;241m*\u001b[39margs)\n",
      "\u001b[0;31mCalledTooSoonError\u001b[0m: Too soon!"
     ]
    }
   ],
   "source": [
    "class CalledTooSoonError(Exception):\n",
    "    pass\n",
    "\n",
    "def once_per_minute(func):\n",
    "    last_run_at = 0\n",
    "\n",
    "    def wrapper(*args):\n",
    "        nonlocal last_run_at\n",
    "        current_time = time.time()\n",
    "        if current_time - last_run_at < 60:\n",
    "            raise CalledTooSoonError('Too soon!')\n",
    "\n",
    "        last_run_at = current_time\n",
    "        \n",
    "        return func(*args)\n",
    "    return wrapper\n",
    "\n",
    "@once_per_minute\n",
    "def slow_add(a, b):\n",
    "    time.sleep(random.randint(0, 3))\n",
    "    return a + b\n",
    "\n",
    "@once_per_minute\n",
    "def slow_mul(a, b):\n",
    "    time.sleep(random.randint(0, 3))\n",
    "    return a * b\n",
    "\n",
    "print(slow_add(2, 3))  # works fine\n",
    "print(slow_mul(4, 5))  # works fine\n",
    "print(slow_add(2, 3))  # raises the exception here\n",
    "print(slow_mul(2, 3))  # \n",
    "print(slow_add(2, 3))  # \n",
    "print(slow_mul(2, 3))  # \n"
   ]
  },
  {
   "cell_type": "markdown",
   "metadata": {},
   "source": [
    "# Modifying function inputs and outputs\n",
    "\n",
    "When we write a decorator, we have two opportunities to do something:\n",
    "\n",
    "- When we define the function\n",
    "- When we run the function\n",
    "\n",
    "When we run the function, we get the inputs (in `*args`), and we return our outputs. This means that we can examine and filter the inputs if we want, or modify them. We can similiarly decide that only some of the outputs should be returned.\n",
    "\n"
   ]
  },
  {
   "cell_type": "code",
   "execution_count": 35,
   "metadata": {},
   "outputs": [
    {
     "data": {
      "text/plain": [
       "60"
      ]
     },
     "execution_count": 35,
     "metadata": {},
     "output_type": "execute_result"
    }
   ],
   "source": [
    "def mysum(*args):\n",
    "    total = 0\n",
    "\n",
    "    for one_number in args: \n",
    "        total += one_number\n",
    "\n",
    "    return total\n",
    "\n",
    "mysum(10, 20, 30)"
   ]
  },
  {
   "cell_type": "code",
   "execution_count": 36,
   "metadata": {},
   "outputs": [
    {
     "ename": "TypeError",
     "evalue": "unsupported operand type(s) for +=: 'int' and 'str'",
     "output_type": "error",
     "traceback": [
      "\u001b[0;31m---------------------------------------------------------------------------\u001b[0m",
      "\u001b[0;31mTypeError\u001b[0m                                 Traceback (most recent call last)",
      "Cell \u001b[0;32mIn[36], line 1\u001b[0m\n\u001b[0;32m----> 1\u001b[0m \u001b[43mmysum\u001b[49m\u001b[43m(\u001b[49m\u001b[38;5;241;43m10\u001b[39;49m\u001b[43m,\u001b[49m\u001b[43m \u001b[49m\u001b[38;5;241;43m20\u001b[39;49m\u001b[43m,\u001b[49m\u001b[43m \u001b[49m\u001b[38;5;124;43m'\u001b[39;49m\u001b[38;5;124;43mhello\u001b[39;49m\u001b[38;5;124;43m'\u001b[39;49m\u001b[43m,\u001b[49m\u001b[43m \u001b[49m\u001b[38;5;241;43m30\u001b[39;49m\u001b[43m)\u001b[49m\n",
      "Cell \u001b[0;32mIn[35], line 5\u001b[0m, in \u001b[0;36mmysum\u001b[0;34m(*args)\u001b[0m\n\u001b[1;32m      2\u001b[0m total \u001b[38;5;241m=\u001b[39m \u001b[38;5;241m0\u001b[39m\n\u001b[1;32m      4\u001b[0m \u001b[38;5;28;01mfor\u001b[39;00m one_number \u001b[38;5;129;01min\u001b[39;00m args: \n\u001b[0;32m----> 5\u001b[0m     \u001b[43mtotal\u001b[49m\u001b[43m \u001b[49m\u001b[38;5;241;43m+\u001b[39;49m\u001b[38;5;241;43m=\u001b[39;49m\u001b[43m \u001b[49m\u001b[43mone_number\u001b[49m\n\u001b[1;32m      7\u001b[0m \u001b[38;5;28;01mreturn\u001b[39;00m total\n",
      "\u001b[0;31mTypeError\u001b[0m: unsupported operand type(s) for +=: 'int' and 'str'"
     ]
    }
   ],
   "source": [
    "mysum(10, 20, 'hello', 30)"
   ]
  },
  {
   "cell_type": "code",
   "execution_count": 38,
   "metadata": {},
   "outputs": [
    {
     "data": {
      "text/plain": [
       "60"
      ]
     },
     "execution_count": 38,
     "metadata": {},
     "output_type": "execute_result"
    }
   ],
   "source": [
    "# I can define an only_odds decorator \n",
    "\n",
    "def only_odds(func):\n",
    "    def wrapper(*args):\n",
    "        odd_args = []\n",
    "\n",
    "        for one_arg in args:\n",
    "            if one_arg % 2 == 1:  # if it's odd...\n",
    "                odd_args.append(one_arg)\n",
    "\n",
    "        return func(*odd_args)\n",
    "    return wrapper\n",
    "\n",
    "\n",
    "# now let's decorate the function!\n",
    "\n",
    "@only_odds\n",
    "def mysum(*args):\n",
    "    total = 0\n",
    "\n",
    "    for one_number in args: \n",
    "        total += one_number\n",
    "\n",
    "    return total\n",
    "\n",
    "mysum(10, 25, 30, 35)"
   ]
  },
  {
   "cell_type": "code",
   "execution_count": 39,
   "metadata": {},
   "outputs": [
    {
     "data": {
      "text/plain": [
       "60"
      ]
     },
     "execution_count": 39,
     "metadata": {},
     "output_type": "execute_result"
    }
   ],
   "source": [
    "# let's use a list comprehension!\n",
    "\n",
    "# I can define an only_odds decorator \n",
    "\n",
    "def only_odds(func):\n",
    "    def wrapper(*args):\n",
    "        return func(*[one_arg\n",
    "                      for one_arg in args\n",
    "                      if one_arg % 2 == 1])\n",
    "    return wrapper\n",
    "\n",
    "\n",
    "# now let's decorate the function!\n",
    "\n",
    "@only_odds\n",
    "def mysum(*args):\n",
    "    total = 0\n",
    "\n",
    "    for one_number in args: \n",
    "        total += one_number\n",
    "\n",
    "    return total\n",
    "\n",
    "mysum(10, 25, 30, 35)"
   ]
  },
  {
   "cell_type": "markdown",
   "metadata": {},
   "source": [
    "# Exercise: `only_ints`\n",
    "\n",
    "Write a decorator that ignores the non-int arguments to a function. If we call `mysum` (the original) with some non-int arguments, the function will still work fine. You probably want to use `isinstance(OBJECT, int)` to check if something is an int."
   ]
  },
  {
   "cell_type": "code",
   "execution_count": 42,
   "metadata": {},
   "outputs": [
    {
     "data": {
      "text/plain": [
       "100"
      ]
     },
     "execution_count": 42,
     "metadata": {},
     "output_type": "execute_result"
    }
   ],
   "source": [
    "\n",
    "def only_ints(func):\n",
    "    def wrapper(*args):\n",
    "        return func(*[one_arg\n",
    "                      for one_arg in args\n",
    "                      if isinstance(one_arg, int)])\n",
    "    return wrapper\n",
    "\n",
    "\n",
    "# now let's decorate the function!\n",
    "\n",
    "@only_ints\n",
    "def mysum(*args):\n",
    "    total = 0\n",
    "\n",
    "    for one_number in args: \n",
    "        total += one_number\n",
    "\n",
    "    return total\n",
    "\n",
    "mysum(10, 25, 30, 10.0, 35)"
   ]
  },
  {
   "cell_type": "markdown",
   "metadata": {},
   "source": [
    "# How can a decorator take arguments?\n",
    "\n",
    "1. What if we want to specify what type (or types) are acceptable for `only_ints`?\n",
    "2. What if we want to specify how long we'll wait (not 60 seconds) for a function to run?\n",
    "3. What if we want to specify the filename into which our logging info will go?\n",
    "\n",
    "Let's think about how that might work. We know that \n",
    "\n",
    "    @decorator\n",
    "    def myfunc():\n",
    "        return 10\n",
    "\n",
    "is rewritten to be\n",
    "\n",
    "    def myfunc():\n",
    "        return 10\n",
    "    myfunc = decorator(myfunc)\n",
    "\n",
    "We have three functions here -- the decorator, wrapper (which is returned), and the original function.\n",
    "\n",
    "If we want the decorator to take arguments, we'll need to think about it differently:\n",
    "\n",
    "    @decorator('a')\n",
    "    def myfunc():\n",
    "        return 10\n",
    "\n",
    "is rewritten to be\n",
    "\n",
    "    def myfunc():\n",
    "        return 10\n",
    "    myfunc = decorator('a')(myfunc)\n",
    "\n",
    "This means that we don't call decorator(myfunc). Rather, we call decorator('a'), which returns a function, which is invoked on myfunc, which returns a function, which is assigned to myfunc.\n",
    "\n",
    "In other words, we're going to need *three* nested functions:\n",
    "\n",
    "- The outer function (the decorator) will now take the argument\n",
    "- The middle function will take the decorated function\n",
    "- Wrapper will remain the same.\n",
    "\n"
   ]
  },
  {
   "cell_type": "code",
   "execution_count": 45,
   "metadata": {},
   "outputs": [
    {
     "data": {
      "text/plain": [
       "10.0"
      ]
     },
     "execution_count": 45,
     "metadata": {},
     "output_type": "execute_result"
    }
   ],
   "source": [
    "# Let's rewrite only_ints to be only_of_type, and pass a type\n",
    "\n",
    "\n",
    "def only_of_type(the_type):\n",
    "    def middle(func):\n",
    "        def wrapper(*args):\n",
    "            return func(*[one_arg\n",
    "                          for one_arg in args\n",
    "                          if isinstance(one_arg, the_type)])\n",
    "        return wrapper\n",
    "    return middle\n",
    "\n",
    "\n",
    "# now let's decorate the function!\n",
    "\n",
    "@only_of_type(float)\n",
    "def mysum(*args):\n",
    "    total = 0\n",
    "\n",
    "    for one_number in args: \n",
    "        total += one_number\n",
    "\n",
    "    return total\n",
    "\n",
    "mysum(10, 25, 30, 10.0, 35)"
   ]
  },
  {
   "cell_type": "markdown",
   "metadata": {},
   "source": [
    "# Combining decorators\n",
    "\n",
    "Can we stack decorators, using more than one on a function? Yes!\n",
    "\n",
    "- When we define the function, the decorators are applied from the inside out. The decorator that's closest to the function we're decorating gets first dibs.\n",
    "- When we invoke the function, the decorators are applied from the outside in.\n",
    "\n",
    "Let's combine two of the decorators we defined."
   ]
  },
  {
   "cell_type": "code",
   "execution_count": 46,
   "metadata": {},
   "outputs": [
    {
     "name": "stdout",
     "output_type": "stream",
     "text": [
      "\tFirst time running slow_add with (2, 3); calling for real\n",
      "5\n",
      "\tFirst time running slow_mul with (4, 5); calling for real\n",
      "20\n",
      "\t\tRetrieving cached value 5 for slow_add with args (2, 3)\n",
      "5\n",
      "\tFirst time running slow_mul with (2, 3); calling for real\n",
      "6\n",
      "\t\tRetrieving cached value 5 for slow_add with args (2, 3)\n",
      "5\n",
      "\t\tRetrieving cached value 6 for slow_mul with args (2, 3)\n",
      "6\n"
     ]
    }
   ],
   "source": [
    "@timefunc\n",
    "@memoize\n",
    "def slow_add(a, b):\n",
    "    time.sleep(random.randint(0, 3))\n",
    "    return a + b\n",
    "\n",
    "@timefunc\n",
    "@memoize\n",
    "def slow_mul(a, b):\n",
    "    time.sleep(random.randint(0, 3))\n",
    "    return a * b\n",
    "\n",
    "print(slow_add(2, 3))  # \n",
    "print(slow_mul(4, 5))  # \n",
    "print(slow_add(2, 3))  # \n",
    "print(slow_mul(2, 3))  # \n",
    "print(slow_add(2, 3))  # \n",
    "print(slow_mul(2, 3))  # \n"
   ]
  },
  {
   "cell_type": "code",
   "execution_count": 47,
   "metadata": {},
   "outputs": [
    {
     "name": "stdout",
     "output_type": "stream",
     "text": [
      "slow_add\t1725816814.081\t3.002\n",
      "slow_mul\t1725816817.086\t0.000\n",
      "slow_add\t1725816838.658\t1.003\n",
      "slow_mul\t1725816839.663\t1.005\n",
      "wrapper\t1725821324.774\t1.004\n",
      "wrapper\t1725821325.781\t0.000\n",
      "wrapper\t1725821325.781\t0.000\n",
      "wrapper\t1725821325.782\t0.000\n",
      "wrapper\t1725821325.782\t0.000\n",
      "wrapper\t1725821325.782\t0.000\n"
     ]
    }
   ],
   "source": [
    "!cat timing.txt"
   ]
  },
  {
   "cell_type": "markdown",
   "metadata": {},
   "source": [
    "How can we tell Python to use the real names of our functions, and not `wrapper`?\n",
    "\n",
    "The answer is: A decorator. \n",
    "\n",
    "If we use `functools.wrap`, a decorator that we can apply to wrapper, it will grab the name and docstring, and make wrapper appear like the original function."
   ]
  },
  {
   "cell_type": "code",
   "execution_count": null,
   "metadata": {},
   "outputs": [],
   "source": [
    "import random\n",
    "import time\n",
    "\n",
    "def timefunc(func):        # outer function is run once per function definition\n",
    "    def wrapper(*args):    # inner function is run once per function invocation\n",
    "        start_time = time.time()\n",
    "        value = func(*args)\n",
    "        total_time = time.time() - start_time\n",
    "\n",
    "        with open('timing.txt', 'a') as outfile:\n",
    "            outfile.write(f'{func.__name__}\\t{start_time:.03f}\\t{total_time:.03f}\\n')\n",
    "\n",
    "        return value\n",
    "    return wrapper\n",
    "\n",
    "def memoize(func):   # outer function, the decorator, called once\n",
    "    cache = {}\n",
    "    def wrapper(*args):\n",
    "        if args not in cache:            # if this is the first time we're seeing these arguments...\n",
    "            print(f'\\tFirst time running {func.__name__} with {args}; calling for real')\n",
    "            cache[args] = func(*args)    # ... call the function and store its return value in the cache\n",
    "        else:\n",
    "            print(f'\\t\\tRetrieving cached value {cache[args]} for {func.__name__} with args {args}')\n",
    "\n",
    "        return cache[args]\n",
    "    return wrapper\n",
    "\n",
    "@timefunc\n",
    "@memoize\n",
    "def slow_add(a, b):\n",
    "    time.sleep(random.randint(0, 3))\n",
    "    return a + b\n",
    "\n",
    "@timefunc\n",
    "@memoize\n",
    "def slow_mul(a, b):\n",
    "    time.sleep(random.randint(0, 3))\n",
    "    return a * b\n",
    "\n",
    "print(slow_add(2, 3))  # \n",
    "print(slow_mul(4, 5))  # \n",
    "print(slow_add(2, 3))  # \n",
    "print(slow_mul(2, 3))  # \n",
    "print(slow_add(2, 3))  # \n",
    "print(slow_mul(2, 3))  # \n"
   ]
  }
 ],
 "metadata": {
  "kernelspec": {
   "display_name": "Python 3 (ipykernel)",
   "language": "python",
   "name": "python3"
  },
  "language_info": {
   "codemirror_mode": {
    "name": "ipython",
    "version": 3
   },
   "file_extension": ".py",
   "mimetype": "text/x-python",
   "name": "python",
   "nbconvert_exporter": "python",
   "pygments_lexer": "ipython3",
   "version": "3.12.5"
  }
 },
 "nbformat": 4,
 "nbformat_minor": 4
}
